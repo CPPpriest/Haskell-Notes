{
 "cells": [
  {
   "cell_type": "markdown",
   "id": "2030a248-0912-4b21-b312-60e481d5e123",
   "metadata": {},
   "source": [
    "# Guard Conditionals"
   ]
  },
  {
   "cell_type": "markdown",
   "id": "4754605d-95ba-4841-9dca-4fd7d85cc85c",
   "metadata": {},
   "source": [
    " Guards are essentially a series of boolean expressions that,  \n",
    " when evaluated to True, will cause the corresponding expression to be executed."
   ]
  },
  {
   "cell_type": "code",
   "execution_count": 10,
   "id": "89b86030-de7d-4f44-85d3-f01ac3e4b0e3",
   "metadata": {},
   "outputs": [],
   "source": [
    "functionName :: Int -> String\n",
    "functionName x\n",
    "    | x < 0     = \"Negative\"\n",
    "    | x == 0    = \"Zero\"\n",
    "    | x < 10    = \"Small\"\n",
    "    | otherwise = \"Large\""
   ]
  },
  {
   "cell_type": "markdown",
   "id": "b69a17a9-a204-42d4-8af6-68108cf0ed02",
   "metadata": {},
   "source": [
    "Guards are evaluated from top to bottom;   \n",
    "the first guard that evaluates to True determines the result of the function.   \n"
   ]
  },
  {
   "cell_type": "code",
   "execution_count": 11,
   "id": "a50b52ea-1328-443a-9e3d-70bee4d5a91a",
   "metadata": {},
   "outputs": [
    {
     "data": {
      "text/plain": [
       "\"Large\""
      ]
     },
     "metadata": {},
     "output_type": "display_data"
    },
    {
     "data": {
      "text/plain": [
       "\"Negative\""
      ]
     },
     "metadata": {},
     "output_type": "display_data"
    },
    {
     "data": {
      "text/plain": [
       "\"Zero\""
      ]
     },
     "metadata": {},
     "output_type": "display_data"
    },
    {
     "data": {
      "text/plain": [
       "\"Small\""
      ]
     },
     "metadata": {},
     "output_type": "display_data"
    }
   ],
   "source": [
    "functionName 11\n",
    "functionName (-4)\n",
    "functionName 0\n",
    "functionName 7"
   ]
  },
  {
   "cell_type": "markdown",
   "id": "eeb49d89-f0a8-4ef1-ba86-ae6b7c39ac96",
   "metadata": {},
   "source": [
    "If none of the guards are True, and there is no otherwise condition,   \n",
    "ERROR: \"Non-exhaustive patterns in function\" will occur. "
   ]
  },
  {
   "cell_type": "code",
   "execution_count": null,
   "id": "5f42b9bf-d6f9-4963-904d-8d2f629c3050",
   "metadata": {},
   "outputs": [],
   "source": [
    "function2 :: Int -> String\n",
    "function2 x\n",
    "    | x < 0     = \"Negative\"\n",
    "    | x == 0    = \"Zero\"\n",
    "    | x < 10    = \"Small\"\n",
    "\n",
    "--No otherwise condition"
   ]
  },
  {
   "cell_type": "code",
   "execution_count": null,
   "id": "6dc253c1-5945-46b2-8f3c-1d416ca57245",
   "metadata": {},
   "outputs": [
    {
     "ename": "",
     "evalue": "",
     "output_type": "error",
     "traceback": [
      "<interactive>:(2,1)-(5,25): Non-exhaustive patterns in function function2"
     ]
    }
   ],
   "source": [
    "function2 14"
   ]
  }
 ],
 "metadata": {
  "kernelspec": {
   "display_name": "Haskell",
   "language": "haskell",
   "name": "haskell"
  },
  "language_info": {
   "codemirror_mode": "ihaskell",
   "file_extension": ".hs",
   "mimetype": "text/x-haskell",
   "name": "haskell",
   "pygments_lexer": "Haskell",
   "version": "9.6.4"
  }
 },
 "nbformat": 4,
 "nbformat_minor": 5
}
